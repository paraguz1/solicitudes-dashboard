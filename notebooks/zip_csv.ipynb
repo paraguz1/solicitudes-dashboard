{
 "cells": [
  {
   "cell_type": "code",
   "execution_count": 1,
   "metadata": {},
   "outputs": [],
   "source": [
    "import pandas as pd\n",
    "\n"
   ]
  },
  {
   "cell_type": "code",
   "execution_count": 34,
   "metadata": {},
   "outputs": [
    {
     "data": {
      "text/plain": [
       "fecha               object\n",
       "Unidad_final        object\n",
       "target              object\n",
       "NP                  object\n",
       "anualidad_red       object\n",
       "baja_vto            object\n",
       "baja_sin_efec       object\n",
       "traspaso            object\n",
       "producto            object\n",
       "baja_excepcional    object\n",
       "modalidad           object\n",
       "permiso_ECO         object\n",
       "nivel_inicio         int32\n",
       "des_nivel_inicio    object\n",
       "nivel_final          int32\n",
       "des_nivel_final     object\n",
       "solicitudes          int32\n",
       "asegurados           int32\n",
       "dtype: object"
      ]
     },
     "execution_count": 34,
     "metadata": {},
     "output_type": "execute_result"
    }
   ],
   "source": [
    "#Importamos datos desde CSV a pandas. Definimos todos los typos para que importe más rápido\n",
    "\n",
    "types = {'fecha': str, 'unidad_final': str , 'target': str , 'NP': str , 'anualidad_red': str , 'baja_vto': str ,\n",
    "        'baja_sin_efec': str , 'traspaso': str , 'producto': str , 'baja_excepcional': str , 'modalidad': str , \n",
    "        'permiso_ECO': str , 'nivel_inicio': 'int32','nivel_final': 'int32', 'solicitudes': 'int32', 'asegurados': 'int32',\n",
    "        'des_nivel_inicio' : str, 'des_nivel_final' : str}\n",
    "\n",
    "df_solicitudes = pd.read_csv('C:/Users/paraguz/Proyectos_Git/solicitudes-dashboard/bajas_retenidos_20200831.csv',\n",
    "                            sep = ',', header = 0,  dtype = types, encoding = 'latin1')\n",
    "\n",
    "df_solicitudes.head(5)\n",
    "\n",
    "df_solicitudes.dtypes"
   ]
  },
  {
   "cell_type": "code",
   "execution_count": 37,
   "metadata": {},
   "outputs": [],
   "source": [
    "#Lo pasamos a picke comprimido para que ocupe lo mínimo\n",
    "\n",
    "df_solicitudes.to_pickle('C:/Users/paraguz/Proyectos_Git/solicitudes-dashboard/bajas_retenidos_20200831.pkl', compression = 'zip')"
   ]
  },
  {
   "cell_type": "code",
   "execution_count": 38,
   "metadata": {},
   "outputs": [],
   "source": [
    "df_solicitudes_2 = pd.read_pickle('C:/Users/paraguz/Proyectos_Git/solicitudes-dashboard/bajas_retenidos_20200831.pkl', compression = 'zip')"
   ]
  },
  {
   "cell_type": "code",
   "execution_count": null,
   "metadata": {},
   "outputs": [],
   "source": []
  }
 ],
 "metadata": {
  "kernelspec": {
   "display_name": "Python 3",
   "language": "python",
   "name": "python3"
  },
  "language_info": {
   "codemirror_mode": {
    "name": "ipython",
    "version": 3
   },
   "file_extension": ".py",
   "mimetype": "text/x-python",
   "name": "python",
   "nbconvert_exporter": "python",
   "pygments_lexer": "ipython3",
   "version": "3.8.3"
  }
 },
 "nbformat": 4,
 "nbformat_minor": 4
}
